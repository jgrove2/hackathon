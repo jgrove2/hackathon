{
 "cells": [
  {
   "cell_type": "code",
   "execution_count": 1,
   "id": "c62a552e",
   "metadata": {},
   "outputs": [],
   "source": [
    "import requests\n",
    "import random\n",
    "import csv"
   ]
  },
  {
   "cell_type": "code",
   "execution_count": 2,
   "id": "89b6870e",
   "metadata": {},
   "outputs": [],
   "source": [
    "import numpy as np\n",
    "import pandas as pd\n",
    "import scipy\n",
    "import matplotlib.pyplot as plt\n",
    "from pylab import rcParams\n",
    "import urllib\n",
    "import sklearn\n",
    "from sklearn.neighbors import KNeighborsClassifier\n",
    "from sklearn import neighbors\n",
    "from sklearn import preprocessing\n",
    "from sklearn.model_selection import train_test_split\n",
    "\n",
    "from sklearn import metrics"
   ]
  },
  {
   "cell_type": "code",
   "execution_count": 23,
   "id": "b5bf2ca1",
   "metadata": {},
   "outputs": [],
   "source": [
    "names = [\"Thermometer\", \"Charger\", \"Toothpaste\", \"Fork\", \"Greeting Card\", \"Eye Liner\", \"Pillow\", \"Umbrella\", \"Plank\", \"Nail\"]\n",
    "colors = [\"Red\", \"Green\", \"Blue\", \"Purple\", \"Orange\", \"Light Blue\", \"Black\", \"White\", \"Magenta\", \"White\"]\n",
    "sizes = [\"Small\", \"Medium\", \"X-Small\", \"XX-Small\", \"Large\", \"X-Large\", \"XX-Large\", \"Kids\", \"Senior\", \"Micro\"]\n",
    "items = []\n",
    "for i in range(10):\n",
    "    for j in range(10):\n",
    "        for k in range(10):\n",
    "            items.append(str( sizes[k] + ' ' + colors[j]+ ' ' + names[i]))\n",
    "_id = 0\n",
    "price = 0\n",
    "categories = [\"outdoors\", \"indoors\", \"weather\", \"household\", \"construction\"]\n",
    "popularity = 0\n",
    "durability = 0\n",
    "with open('dummydata.csv', 'w', newline='') as file:\n",
    "    writer = csv.writer(file)\n",
    "    _id = 0\n",
    "    field = [\"id\", \"name\", \"price\", \"categories\", \"popularity\", \"durability\"]\n",
    "    writer.writerow(field)\n",
    "    for i in range(1000):\n",
    "        price = random.randint(1,50) + (random.randint(0,99)/100)\n",
    "        name = items[i]\n",
    "        category = categories[i%5]\n",
    "        popularity = random.random() * 100\n",
    "        durability = random.random() * 100\n",
    "        writer.writerow([_id, name, price, category, popularity, durability])\n",
    "        _id += 1"
   ]
  },
  {
   "cell_type": "code",
   "execution_count": 14,
   "id": "68d60ab0",
   "metadata": {},
   "outputs": [],
   "source": [
    "address = 'C:\\Workspace\\hackathon\\dataanalysis\\dummydata.csv'\n",
    "\n",
    "cols = [\"id\", \"name\", \"price\", \"categories\", \"popularity\", \"durability\"]\n",
    "\n",
    "df = pd.read_csv(address)"
   ]
  },
  {
   "cell_type": "code",
   "execution_count": 15,
   "id": "006e12fc",
   "metadata": {},
   "outputs": [
    {
     "data": {
      "text/html": [
       "<div>\n",
       "<style scoped>\n",
       "    .dataframe tbody tr th:only-of-type {\n",
       "        vertical-align: middle;\n",
       "    }\n",
       "\n",
       "    .dataframe tbody tr th {\n",
       "        vertical-align: top;\n",
       "    }\n",
       "\n",
       "    .dataframe thead th {\n",
       "        text-align: right;\n",
       "    }\n",
       "</style>\n",
       "<table border=\"1\" class=\"dataframe\">\n",
       "  <thead>\n",
       "    <tr style=\"text-align: right;\">\n",
       "      <th></th>\n",
       "      <th>id</th>\n",
       "      <th>name</th>\n",
       "      <th>price</th>\n",
       "      <th>categories</th>\n",
       "      <th>popularity</th>\n",
       "      <th>durability</th>\n",
       "    </tr>\n",
       "  </thead>\n",
       "  <tbody>\n",
       "    <tr>\n",
       "      <th>0</th>\n",
       "      <td>0</td>\n",
       "      <td>Small Red Thermometer</td>\n",
       "      <td>2.37</td>\n",
       "      <td>['Outdoors']</td>\n",
       "      <td>11.357928</td>\n",
       "      <td>48.809604</td>\n",
       "    </tr>\n",
       "    <tr>\n",
       "      <th>1</th>\n",
       "      <td>1</td>\n",
       "      <td>Medium Red Thermometer</td>\n",
       "      <td>44.62</td>\n",
       "      <td>['Indoors']</td>\n",
       "      <td>8.551990</td>\n",
       "      <td>64.185328</td>\n",
       "    </tr>\n",
       "    <tr>\n",
       "      <th>2</th>\n",
       "      <td>2</td>\n",
       "      <td>X-Small Red Thermometer</td>\n",
       "      <td>44.60</td>\n",
       "      <td>['Weather']</td>\n",
       "      <td>14.509012</td>\n",
       "      <td>46.271385</td>\n",
       "    </tr>\n",
       "    <tr>\n",
       "      <th>3</th>\n",
       "      <td>3</td>\n",
       "      <td>XX-Small Red Thermometer</td>\n",
       "      <td>6.24</td>\n",
       "      <td>['Household']</td>\n",
       "      <td>67.903539</td>\n",
       "      <td>36.334006</td>\n",
       "    </tr>\n",
       "    <tr>\n",
       "      <th>4</th>\n",
       "      <td>4</td>\n",
       "      <td>Large Red Thermometer</td>\n",
       "      <td>34.46</td>\n",
       "      <td>['Construction']</td>\n",
       "      <td>75.531198</td>\n",
       "      <td>94.577272</td>\n",
       "    </tr>\n",
       "  </tbody>\n",
       "</table>\n",
       "</div>"
      ],
      "text/plain": [
       "   id                      name  price        categories  popularity  \\\n",
       "0   0     Small Red Thermometer   2.37      ['Outdoors']   11.357928   \n",
       "1   1    Medium Red Thermometer  44.62       ['Indoors']    8.551990   \n",
       "2   2   X-Small Red Thermometer  44.60       ['Weather']   14.509012   \n",
       "3   3  XX-Small Red Thermometer   6.24     ['Household']   67.903539   \n",
       "4   4     Large Red Thermometer  34.46  ['Construction']   75.531198   \n",
       "\n",
       "   durability  \n",
       "0   48.809604  \n",
       "1   64.185328  \n",
       "2   46.271385  \n",
       "3   36.334006  \n",
       "4   94.577272  "
      ]
     },
     "execution_count": 15,
     "metadata": {},
     "output_type": "execute_result"
    }
   ],
   "source": [
    "df.head()"
   ]
  },
  {
   "cell_type": "code",
   "execution_count": 16,
   "id": "d93e6d02",
   "metadata": {},
   "outputs": [],
   "source": [
    "X = df.iloc[:, [2,4,5]].values\n",
    "y = df.iloc[:, 0].values\n",
    "# y = pd.get_dummies(y)"
   ]
  },
  {
   "cell_type": "code",
   "execution_count": 17,
   "id": "e16990a9",
   "metadata": {},
   "outputs": [],
   "source": [
    "X_train, X_test, y_train, y_test = train_test_split(X, y, test_size = 0.3, random_state = 42)"
   ]
  },
  {
   "cell_type": "code",
   "execution_count": 18,
   "id": "5ee2275c",
   "metadata": {},
   "outputs": [],
   "source": [
    "from sklearn.preprocessing import StandardScaler\n",
    "scaler = StandardScaler()\n",
    "scaler.fit(X_train)\n",
    "X_train = scaler.transform(X_train)\n",
    "X_test = scaler.transform(X_test)"
   ]
  },
  {
   "cell_type": "code",
   "execution_count": 19,
   "id": "34357d8a",
   "metadata": {},
   "outputs": [
    {
     "data": {
      "text/html": [
       "<style>#sk-container-id-2 {color: black;background-color: white;}#sk-container-id-2 pre{padding: 0;}#sk-container-id-2 div.sk-toggleable {background-color: white;}#sk-container-id-2 label.sk-toggleable__label {cursor: pointer;display: block;width: 100%;margin-bottom: 0;padding: 0.3em;box-sizing: border-box;text-align: center;}#sk-container-id-2 label.sk-toggleable__label-arrow:before {content: \"▸\";float: left;margin-right: 0.25em;color: #696969;}#sk-container-id-2 label.sk-toggleable__label-arrow:hover:before {color: black;}#sk-container-id-2 div.sk-estimator:hover label.sk-toggleable__label-arrow:before {color: black;}#sk-container-id-2 div.sk-toggleable__content {max-height: 0;max-width: 0;overflow: hidden;text-align: left;background-color: #f0f8ff;}#sk-container-id-2 div.sk-toggleable__content pre {margin: 0.2em;color: black;border-radius: 0.25em;background-color: #f0f8ff;}#sk-container-id-2 input.sk-toggleable__control:checked~div.sk-toggleable__content {max-height: 200px;max-width: 100%;overflow: auto;}#sk-container-id-2 input.sk-toggleable__control:checked~label.sk-toggleable__label-arrow:before {content: \"▾\";}#sk-container-id-2 div.sk-estimator input.sk-toggleable__control:checked~label.sk-toggleable__label {background-color: #d4ebff;}#sk-container-id-2 div.sk-label input.sk-toggleable__control:checked~label.sk-toggleable__label {background-color: #d4ebff;}#sk-container-id-2 input.sk-hidden--visually {border: 0;clip: rect(1px 1px 1px 1px);clip: rect(1px, 1px, 1px, 1px);height: 1px;margin: -1px;overflow: hidden;padding: 0;position: absolute;width: 1px;}#sk-container-id-2 div.sk-estimator {font-family: monospace;background-color: #f0f8ff;border: 1px dotted black;border-radius: 0.25em;box-sizing: border-box;margin-bottom: 0.5em;}#sk-container-id-2 div.sk-estimator:hover {background-color: #d4ebff;}#sk-container-id-2 div.sk-parallel-item::after {content: \"\";width: 100%;border-bottom: 1px solid gray;flex-grow: 1;}#sk-container-id-2 div.sk-label:hover label.sk-toggleable__label {background-color: #d4ebff;}#sk-container-id-2 div.sk-serial::before {content: \"\";position: absolute;border-left: 1px solid gray;box-sizing: border-box;top: 0;bottom: 0;left: 50%;z-index: 0;}#sk-container-id-2 div.sk-serial {display: flex;flex-direction: column;align-items: center;background-color: white;padding-right: 0.2em;padding-left: 0.2em;position: relative;}#sk-container-id-2 div.sk-item {position: relative;z-index: 1;}#sk-container-id-2 div.sk-parallel {display: flex;align-items: stretch;justify-content: center;background-color: white;position: relative;}#sk-container-id-2 div.sk-item::before, #sk-container-id-2 div.sk-parallel-item::before {content: \"\";position: absolute;border-left: 1px solid gray;box-sizing: border-box;top: 0;bottom: 0;left: 50%;z-index: -1;}#sk-container-id-2 div.sk-parallel-item {display: flex;flex-direction: column;z-index: 1;position: relative;background-color: white;}#sk-container-id-2 div.sk-parallel-item:first-child::after {align-self: flex-end;width: 50%;}#sk-container-id-2 div.sk-parallel-item:last-child::after {align-self: flex-start;width: 50%;}#sk-container-id-2 div.sk-parallel-item:only-child::after {width: 0;}#sk-container-id-2 div.sk-dashed-wrapped {border: 1px dashed gray;margin: 0 0.4em 0.5em 0.4em;box-sizing: border-box;padding-bottom: 0.4em;background-color: white;}#sk-container-id-2 div.sk-label label {font-family: monospace;font-weight: bold;display: inline-block;line-height: 1.2em;}#sk-container-id-2 div.sk-label-container {text-align: center;}#sk-container-id-2 div.sk-container {/* jupyter's `normalize.less` sets `[hidden] { display: none; }` but bootstrap.min.css set `[hidden] { display: none !important; }` so we also need the `!important` here to be able to override the default hidden behavior on the sphinx rendered scikit-learn.org. See: https://github.com/scikit-learn/scikit-learn/issues/21755 */display: inline-block !important;position: relative;}#sk-container-id-2 div.sk-text-repr-fallback {display: none;}</style><div id=\"sk-container-id-2\" class=\"sk-top-container\"><div class=\"sk-text-repr-fallback\"><pre>KNeighborsClassifier(algorithm=&#x27;kd_tree&#x27;, n_neighbors=4)</pre><b>In a Jupyter environment, please rerun this cell to show the HTML representation or trust the notebook. <br />On GitHub, the HTML representation is unable to render, please try loading this page with nbviewer.org.</b></div><div class=\"sk-container\" hidden><div class=\"sk-item\"><div class=\"sk-estimator sk-toggleable\"><input class=\"sk-toggleable__control sk-hidden--visually\" id=\"sk-estimator-id-2\" type=\"checkbox\" checked><label for=\"sk-estimator-id-2\" class=\"sk-toggleable__label sk-toggleable__label-arrow\">KNeighborsClassifier</label><div class=\"sk-toggleable__content\"><pre>KNeighborsClassifier(algorithm=&#x27;kd_tree&#x27;, n_neighbors=4)</pre></div></div></div></div></div>"
      ],
      "text/plain": [
       "KNeighborsClassifier(algorithm='kd_tree', n_neighbors=4)"
      ]
     },
     "execution_count": 19,
     "metadata": {},
     "output_type": "execute_result"
    }
   ],
   "source": [
    "classifier = KNeighborsClassifier(n_neighbors=4, algorithm='kd_tree')\n",
    "classifier.fit(X_train, y_train)"
   ]
  },
  {
   "cell_type": "code",
   "execution_count": 20,
   "id": "2a8472e4",
   "metadata": {},
   "outputs": [
    {
     "name": "stdout",
     "output_type": "stream",
     "text": [
      "XX-Large Light Blue Thermometer\n"
     ]
    }
   ],
   "source": [
    "y_pred = classifier.predict(X_test)\n",
    "\n",
    "temp = classifier.predict(df.iloc[[1]].iloc[:, [2,4,5]].values)\n",
    "print(df.iloc[temp]['name'].values[0])\n"
   ]
  },
  {
   "cell_type": "code",
   "execution_count": 21,
   "id": "7354b93e",
   "metadata": {},
   "outputs": [
    {
     "name": "stdout",
     "output_type": "stream",
     "text": [
      "Enter a item id you would like to recomend a purchase for based on(exit to exit):\n",
      "943\n",
      "We recommend: XX-Large Light Blue Thermometer\n",
      "Since you purchased XX-Small Orange Nail\n",
      "Enter a item id you would like to recomend a purchase for based on(exit to exit):\n",
      "exit\n"
     ]
    }
   ],
   "source": [
    "exit = False\n",
    "while not exit:\n",
    "    print(\"Enter a item id you would like to recomend a purchase for based on(exit to exit):\")\n",
    "    i = input()\n",
    "    if(i.isnumeric()):\n",
    "        temp = classifier.predict(df.iloc[[int(i)]].iloc[:, [2,4,5]].values)\n",
    "        print('We recommend: ' + df.iloc[temp]['name'].values[0])\n",
    "        print('Since you purchased ' + df.iloc[[int(i)]]['name'].values[0])\n",
    "    elif(i == 'exit'):\n",
    "        exit = True\n",
    "    else:\n",
    "        print(\"Please enter an id value or exit to exit...\\n\")\n",
    "    "
   ]
  },
  {
   "cell_type": "code",
   "execution_count": null,
   "id": "af9293f4",
   "metadata": {},
   "outputs": [],
   "source": []
  }
 ],
 "metadata": {
  "kernelspec": {
   "display_name": "Python 3 (ipykernel)",
   "language": "python",
   "name": "python3"
  },
  "language_info": {
   "codemirror_mode": {
    "name": "ipython",
    "version": 3
   },
   "file_extension": ".py",
   "mimetype": "text/x-python",
   "name": "python",
   "nbconvert_exporter": "python",
   "pygments_lexer": "ipython3",
   "version": "3.10.9"
  }
 },
 "nbformat": 4,
 "nbformat_minor": 5
}
